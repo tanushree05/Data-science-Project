{
  "nbformat": 4,
  "nbformat_minor": 0,
  "metadata": {
    "colab": {
      "provenance": [],
      "authorship_tag": "ABX9TyOzAIV1fXD42kZ4zmAQG6m7",
      "include_colab_link": true
    },
    "kernelspec": {
      "name": "python3",
      "display_name": "Python 3"
    },
    "language_info": {
      "name": "python"
    }
  },
  "cells": [
    {
      "cell_type": "markdown",
      "metadata": {
        "id": "view-in-github",
        "colab_type": "text"
      },
      "source": [
        "<a href=\"https://colab.research.google.com/github/tanushree05/Data-science-Project/blob/main/AIDS_II_project.ipynb\" target=\"_parent\"><img src=\"https://colab.research.google.com/assets/colab-badge.svg\" alt=\"Open In Colab\"/></a>"
      ]
    },
    {
      "cell_type": "markdown",
      "source": [
        "**Project Topic : Clustering Mixed data of a Heart Failure Clinical Record Dataset**\n"
      ],
      "metadata": {
        "id": "cxvrTTgcwsNT"
      }
    },
    {
      "cell_type": "markdown",
      "source": [
        "**1. Importing and Exploring the Data**"
      ],
      "metadata": {
        "id": "XMSii3Mcwn6g"
      }
    },
    {
      "cell_type": "code",
      "execution_count": null,
      "metadata": {
        "colab": {
          "base_uri": "https://localhost:8080/",
          "height": 288
        },
        "id": "_1Nx9ga2a70Y",
        "outputId": "2a44edea-d41e-4554-c689-ff4e1fa6aaaa"
      },
      "outputs": [
        {
          "output_type": "stream",
          "name": "stdout",
          "text": [
            "Size of heart failure clinical dataframe is : (299, 13)\n"
          ]
        },
        {
          "output_type": "execute_result",
          "data": {
            "text/plain": [
              "    age  anaemia  creatinine_phosphokinase  diabetes  ejection_fraction  \\\n",
              "0  75.0        0                       582         0                 20   \n",
              "1  55.0        0                      7861         0                 38   \n",
              "2  65.0        0                       146         0                 20   \n",
              "3  50.0        1                       111         0                 20   \n",
              "4  65.0        1                       160         1                 20   \n",
              "\n",
              "   high_blood_pressure  platelets  serum_creatinine  serum_sodium  gender  \\\n",
              "0                    1  265000.00               1.9           130       1   \n",
              "1                    0  263358.03               1.1           136       1   \n",
              "2                    0  162000.00               1.3           129       1   \n",
              "3                    0  210000.00               1.9           137       1   \n",
              "4                    0  327000.00               2.7           116       0   \n",
              "\n",
              "   smoking  time  DEATH_EVENT  \n",
              "0        0     4            1  \n",
              "1        0     6            1  \n",
              "2        1     7            1  \n",
              "3        0     7            1  \n",
              "4        0     8            1  "
            ],
            "text/html": [
              "\n",
              "  <div id=\"df-0069fd07-67f2-40a3-80dd-2de8ea7dfd3b\">\n",
              "    <div class=\"colab-df-container\">\n",
              "      <div>\n",
              "<style scoped>\n",
              "    .dataframe tbody tr th:only-of-type {\n",
              "        vertical-align: middle;\n",
              "    }\n",
              "\n",
              "    .dataframe tbody tr th {\n",
              "        vertical-align: top;\n",
              "    }\n",
              "\n",
              "    .dataframe thead th {\n",
              "        text-align: right;\n",
              "    }\n",
              "</style>\n",
              "<table border=\"1\" class=\"dataframe\">\n",
              "  <thead>\n",
              "    <tr style=\"text-align: right;\">\n",
              "      <th></th>\n",
              "      <th>age</th>\n",
              "      <th>anaemia</th>\n",
              "      <th>creatinine_phosphokinase</th>\n",
              "      <th>diabetes</th>\n",
              "      <th>ejection_fraction</th>\n",
              "      <th>high_blood_pressure</th>\n",
              "      <th>platelets</th>\n",
              "      <th>serum_creatinine</th>\n",
              "      <th>serum_sodium</th>\n",
              "      <th>gender</th>\n",
              "      <th>smoking</th>\n",
              "      <th>time</th>\n",
              "      <th>DEATH_EVENT</th>\n",
              "    </tr>\n",
              "  </thead>\n",
              "  <tbody>\n",
              "    <tr>\n",
              "      <th>0</th>\n",
              "      <td>75.0</td>\n",
              "      <td>0</td>\n",
              "      <td>582</td>\n",
              "      <td>0</td>\n",
              "      <td>20</td>\n",
              "      <td>1</td>\n",
              "      <td>265000.00</td>\n",
              "      <td>1.9</td>\n",
              "      <td>130</td>\n",
              "      <td>1</td>\n",
              "      <td>0</td>\n",
              "      <td>4</td>\n",
              "      <td>1</td>\n",
              "    </tr>\n",
              "    <tr>\n",
              "      <th>1</th>\n",
              "      <td>55.0</td>\n",
              "      <td>0</td>\n",
              "      <td>7861</td>\n",
              "      <td>0</td>\n",
              "      <td>38</td>\n",
              "      <td>0</td>\n",
              "      <td>263358.03</td>\n",
              "      <td>1.1</td>\n",
              "      <td>136</td>\n",
              "      <td>1</td>\n",
              "      <td>0</td>\n",
              "      <td>6</td>\n",
              "      <td>1</td>\n",
              "    </tr>\n",
              "    <tr>\n",
              "      <th>2</th>\n",
              "      <td>65.0</td>\n",
              "      <td>0</td>\n",
              "      <td>146</td>\n",
              "      <td>0</td>\n",
              "      <td>20</td>\n",
              "      <td>0</td>\n",
              "      <td>162000.00</td>\n",
              "      <td>1.3</td>\n",
              "      <td>129</td>\n",
              "      <td>1</td>\n",
              "      <td>1</td>\n",
              "      <td>7</td>\n",
              "      <td>1</td>\n",
              "    </tr>\n",
              "    <tr>\n",
              "      <th>3</th>\n",
              "      <td>50.0</td>\n",
              "      <td>1</td>\n",
              "      <td>111</td>\n",
              "      <td>0</td>\n",
              "      <td>20</td>\n",
              "      <td>0</td>\n",
              "      <td>210000.00</td>\n",
              "      <td>1.9</td>\n",
              "      <td>137</td>\n",
              "      <td>1</td>\n",
              "      <td>0</td>\n",
              "      <td>7</td>\n",
              "      <td>1</td>\n",
              "    </tr>\n",
              "    <tr>\n",
              "      <th>4</th>\n",
              "      <td>65.0</td>\n",
              "      <td>1</td>\n",
              "      <td>160</td>\n",
              "      <td>1</td>\n",
              "      <td>20</td>\n",
              "      <td>0</td>\n",
              "      <td>327000.00</td>\n",
              "      <td>2.7</td>\n",
              "      <td>116</td>\n",
              "      <td>0</td>\n",
              "      <td>0</td>\n",
              "      <td>8</td>\n",
              "      <td>1</td>\n",
              "    </tr>\n",
              "  </tbody>\n",
              "</table>\n",
              "</div>\n",
              "      <button class=\"colab-df-convert\" onclick=\"convertToInteractive('df-0069fd07-67f2-40a3-80dd-2de8ea7dfd3b')\"\n",
              "              title=\"Convert this dataframe to an interactive table.\"\n",
              "              style=\"display:none;\">\n",
              "        \n",
              "  <svg xmlns=\"http://www.w3.org/2000/svg\" height=\"24px\"viewBox=\"0 0 24 24\"\n",
              "       width=\"24px\">\n",
              "    <path d=\"M0 0h24v24H0V0z\" fill=\"none\"/>\n",
              "    <path d=\"M18.56 5.44l.94 2.06.94-2.06 2.06-.94-2.06-.94-.94-2.06-.94 2.06-2.06.94zm-11 1L8.5 8.5l.94-2.06 2.06-.94-2.06-.94L8.5 2.5l-.94 2.06-2.06.94zm10 10l.94 2.06.94-2.06 2.06-.94-2.06-.94-.94-2.06-.94 2.06-2.06.94z\"/><path d=\"M17.41 7.96l-1.37-1.37c-.4-.4-.92-.59-1.43-.59-.52 0-1.04.2-1.43.59L10.3 9.45l-7.72 7.72c-.78.78-.78 2.05 0 2.83L4 21.41c.39.39.9.59 1.41.59.51 0 1.02-.2 1.41-.59l7.78-7.78 2.81-2.81c.8-.78.8-2.07 0-2.86zM5.41 20L4 18.59l7.72-7.72 1.47 1.35L5.41 20z\"/>\n",
              "  </svg>\n",
              "      </button>\n",
              "      \n",
              "  <style>\n",
              "    .colab-df-container {\n",
              "      display:flex;\n",
              "      flex-wrap:wrap;\n",
              "      gap: 12px;\n",
              "    }\n",
              "\n",
              "    .colab-df-convert {\n",
              "      background-color: #E8F0FE;\n",
              "      border: none;\n",
              "      border-radius: 50%;\n",
              "      cursor: pointer;\n",
              "      display: none;\n",
              "      fill: #1967D2;\n",
              "      height: 32px;\n",
              "      padding: 0 0 0 0;\n",
              "      width: 32px;\n",
              "    }\n",
              "\n",
              "    .colab-df-convert:hover {\n",
              "      background-color: #E2EBFA;\n",
              "      box-shadow: 0px 1px 2px rgba(60, 64, 67, 0.3), 0px 1px 3px 1px rgba(60, 64, 67, 0.15);\n",
              "      fill: #174EA6;\n",
              "    }\n",
              "\n",
              "    [theme=dark] .colab-df-convert {\n",
              "      background-color: #3B4455;\n",
              "      fill: #D2E3FC;\n",
              "    }\n",
              "\n",
              "    [theme=dark] .colab-df-convert:hover {\n",
              "      background-color: #434B5C;\n",
              "      box-shadow: 0px 1px 3px 1px rgba(0, 0, 0, 0.15);\n",
              "      filter: drop-shadow(0px 1px 2px rgba(0, 0, 0, 0.3));\n",
              "      fill: #FFFFFF;\n",
              "    }\n",
              "  </style>\n",
              "\n",
              "      <script>\n",
              "        const buttonEl =\n",
              "          document.querySelector('#df-0069fd07-67f2-40a3-80dd-2de8ea7dfd3b button.colab-df-convert');\n",
              "        buttonEl.style.display =\n",
              "          google.colab.kernel.accessAllowed ? 'block' : 'none';\n",
              "\n",
              "        async function convertToInteractive(key) {\n",
              "          const element = document.querySelector('#df-0069fd07-67f2-40a3-80dd-2de8ea7dfd3b');\n",
              "          const dataTable =\n",
              "            await google.colab.kernel.invokeFunction('convertToInteractive',\n",
              "                                                     [key], {});\n",
              "          if (!dataTable) return;\n",
              "\n",
              "          const docLinkHtml = 'Like what you see? Visit the ' +\n",
              "            '<a target=\"_blank\" href=https://colab.research.google.com/notebooks/data_table.ipynb>data table notebook</a>'\n",
              "            + ' to learn more about interactive tables.';\n",
              "          element.innerHTML = '';\n",
              "          dataTable['output_type'] = 'display_data';\n",
              "          await google.colab.output.renderOutput(dataTable, element);\n",
              "          const docLink = document.createElement('div');\n",
              "          docLink.innerHTML = docLinkHtml;\n",
              "          element.appendChild(docLink);\n",
              "        }\n",
              "      </script>\n",
              "    </div>\n",
              "  </div>\n",
              "  "
            ]
          },
          "metadata": {},
          "execution_count": 41
        }
      ],
      "source": [
        "import warnings\n",
        "import pandas as pd\n",
        "import numpy as np\n",
        "# ignore all warnings\n",
        "warnings. filterwarnings(\"ignore\")\n",
        "# read data into dataframe variable df\n",
        "df = pd.read_csv(\"/content/heart_failure_clinical_records_dataset.csv\")\n",
        "print('Size of heart failure clinical dataframe is :', df.shape)\n",
        "\n",
        "# display first few rows of data\n",
        "df.head()"
      ]
    },
    {
      "cell_type": "code",
      "source": [
        "df.dtypes"
      ],
      "metadata": {
        "colab": {
          "base_uri": "https://localhost:8080/"
        },
        "id": "xEU-Iwjudyna",
        "outputId": "3d7f3e19-82f9-4035-d8bf-0463bc880791"
      },
      "execution_count": null,
      "outputs": [
        {
          "output_type": "execute_result",
          "data": {
            "text/plain": [
              "age                         float64\n",
              "anaemia                       int64\n",
              "creatinine_phosphokinase      int64\n",
              "diabetes                      int64\n",
              "ejection_fraction             int64\n",
              "high_blood_pressure           int64\n",
              "platelets                   float64\n",
              "serum_creatinine            float64\n",
              "serum_sodium                  int64\n",
              "sex                           int64\n",
              "smoking                       int64\n",
              "time                          int64\n",
              "DEATH_EVENT                   int64\n",
              "dtype: object"
            ]
          },
          "metadata": {},
          "execution_count": 9
        }
      ]
    },
    {
      "cell_type": "markdown",
      "source": [
        "**2. Data Preprocessing**"
      ],
      "metadata": {
        "id": "JksGgDqVxOat"
      }
    },
    {
      "cell_type": "code",
      "source": [
        "# select columns to cluster\n",
        "\n",
        "cluster_columns = ['age', 'gender', 'serum_sodium', 'platelets', 'smoking']\n",
        "\n",
        "df = df[cluster_columns]"
      ],
      "metadata": {
        "id": "-kagyHrOd6hJ"
      },
      "execution_count": null,
      "outputs": []
    },
    {
      "cell_type": "code",
      "source": [
        "from sklearn.preprocessing import StandardScaler\n",
        "\n",
        "# define numerical and categorical columns\n",
        "numerical_columns = ['age', 'serum_sodium', 'platelets']\n",
        "categorical_columns = ['gender', 'smoking']\n",
        "\n",
        "scaler = StandardScaler()\n",
        "\n",
        "# create a copy of our data to be scaled\n",
        "df_scale = df.copy()\n",
        "\n",
        "# standard scale numerical features\n",
        "for c in numerical_columns:\n",
        "    df_scale[c] = scaler.fit_transform(df[[c]])"
      ],
      "metadata": {
        "id": "1QXrZ8mGeD6A"
      },
      "execution_count": null,
      "outputs": []
    },
    {
      "cell_type": "code",
      "source": [
        "df_scale.head()"
      ],
      "metadata": {
        "colab": {
          "base_uri": "https://localhost:8080/",
          "height": 206
        },
        "id": "h5C1nwq4ePVH",
        "outputId": "e619f444-de19-440a-d393-c34486253dc1"
      },
      "execution_count": null,
      "outputs": [
        {
          "output_type": "execute_result",
          "data": {
            "text/plain": [
              "        age  gender  serum_sodium     platelets  smoking\n",
              "0  1.192945       1     -1.504036  1.681648e-02        0\n",
              "1 -0.491279       1     -0.141976  7.535660e-09        0\n",
              "2  0.350833       1     -1.731046 -1.038073e+00        1\n",
              "3 -0.912335       1      0.085034 -5.464741e-01        0\n",
              "4  0.350833       0     -4.682176  6.517986e-01        0"
            ],
            "text/html": [
              "\n",
              "  <div id=\"df-01ddc1a8-bdc2-410e-b6d6-7fcf31c11dda\">\n",
              "    <div class=\"colab-df-container\">\n",
              "      <div>\n",
              "<style scoped>\n",
              "    .dataframe tbody tr th:only-of-type {\n",
              "        vertical-align: middle;\n",
              "    }\n",
              "\n",
              "    .dataframe tbody tr th {\n",
              "        vertical-align: top;\n",
              "    }\n",
              "\n",
              "    .dataframe thead th {\n",
              "        text-align: right;\n",
              "    }\n",
              "</style>\n",
              "<table border=\"1\" class=\"dataframe\">\n",
              "  <thead>\n",
              "    <tr style=\"text-align: right;\">\n",
              "      <th></th>\n",
              "      <th>age</th>\n",
              "      <th>gender</th>\n",
              "      <th>serum_sodium</th>\n",
              "      <th>platelets</th>\n",
              "      <th>smoking</th>\n",
              "    </tr>\n",
              "  </thead>\n",
              "  <tbody>\n",
              "    <tr>\n",
              "      <th>0</th>\n",
              "      <td>1.192945</td>\n",
              "      <td>1</td>\n",
              "      <td>-1.504036</td>\n",
              "      <td>1.681648e-02</td>\n",
              "      <td>0</td>\n",
              "    </tr>\n",
              "    <tr>\n",
              "      <th>1</th>\n",
              "      <td>-0.491279</td>\n",
              "      <td>1</td>\n",
              "      <td>-0.141976</td>\n",
              "      <td>7.535660e-09</td>\n",
              "      <td>0</td>\n",
              "    </tr>\n",
              "    <tr>\n",
              "      <th>2</th>\n",
              "      <td>0.350833</td>\n",
              "      <td>1</td>\n",
              "      <td>-1.731046</td>\n",
              "      <td>-1.038073e+00</td>\n",
              "      <td>1</td>\n",
              "    </tr>\n",
              "    <tr>\n",
              "      <th>3</th>\n",
              "      <td>-0.912335</td>\n",
              "      <td>1</td>\n",
              "      <td>0.085034</td>\n",
              "      <td>-5.464741e-01</td>\n",
              "      <td>0</td>\n",
              "    </tr>\n",
              "    <tr>\n",
              "      <th>4</th>\n",
              "      <td>0.350833</td>\n",
              "      <td>0</td>\n",
              "      <td>-4.682176</td>\n",
              "      <td>6.517986e-01</td>\n",
              "      <td>0</td>\n",
              "    </tr>\n",
              "  </tbody>\n",
              "</table>\n",
              "</div>\n",
              "      <button class=\"colab-df-convert\" onclick=\"convertToInteractive('df-01ddc1a8-bdc2-410e-b6d6-7fcf31c11dda')\"\n",
              "              title=\"Convert this dataframe to an interactive table.\"\n",
              "              style=\"display:none;\">\n",
              "        \n",
              "  <svg xmlns=\"http://www.w3.org/2000/svg\" height=\"24px\"viewBox=\"0 0 24 24\"\n",
              "       width=\"24px\">\n",
              "    <path d=\"M0 0h24v24H0V0z\" fill=\"none\"/>\n",
              "    <path d=\"M18.56 5.44l.94 2.06.94-2.06 2.06-.94-2.06-.94-.94-2.06-.94 2.06-2.06.94zm-11 1L8.5 8.5l.94-2.06 2.06-.94-2.06-.94L8.5 2.5l-.94 2.06-2.06.94zm10 10l.94 2.06.94-2.06 2.06-.94-2.06-.94-.94-2.06-.94 2.06-2.06.94z\"/><path d=\"M17.41 7.96l-1.37-1.37c-.4-.4-.92-.59-1.43-.59-.52 0-1.04.2-1.43.59L10.3 9.45l-7.72 7.72c-.78.78-.78 2.05 0 2.83L4 21.41c.39.39.9.59 1.41.59.51 0 1.02-.2 1.41-.59l7.78-7.78 2.81-2.81c.8-.78.8-2.07 0-2.86zM5.41 20L4 18.59l7.72-7.72 1.47 1.35L5.41 20z\"/>\n",
              "  </svg>\n",
              "      </button>\n",
              "      \n",
              "  <style>\n",
              "    .colab-df-container {\n",
              "      display:flex;\n",
              "      flex-wrap:wrap;\n",
              "      gap: 12px;\n",
              "    }\n",
              "\n",
              "    .colab-df-convert {\n",
              "      background-color: #E8F0FE;\n",
              "      border: none;\n",
              "      border-radius: 50%;\n",
              "      cursor: pointer;\n",
              "      display: none;\n",
              "      fill: #1967D2;\n",
              "      height: 32px;\n",
              "      padding: 0 0 0 0;\n",
              "      width: 32px;\n",
              "    }\n",
              "\n",
              "    .colab-df-convert:hover {\n",
              "      background-color: #E2EBFA;\n",
              "      box-shadow: 0px 1px 2px rgba(60, 64, 67, 0.3), 0px 1px 3px 1px rgba(60, 64, 67, 0.15);\n",
              "      fill: #174EA6;\n",
              "    }\n",
              "\n",
              "    [theme=dark] .colab-df-convert {\n",
              "      background-color: #3B4455;\n",
              "      fill: #D2E3FC;\n",
              "    }\n",
              "\n",
              "    [theme=dark] .colab-df-convert:hover {\n",
              "      background-color: #434B5C;\n",
              "      box-shadow: 0px 1px 3px 1px rgba(0, 0, 0, 0.15);\n",
              "      filter: drop-shadow(0px 1px 2px rgba(0, 0, 0, 0.3));\n",
              "      fill: #FFFFFF;\n",
              "    }\n",
              "  </style>\n",
              "\n",
              "      <script>\n",
              "        const buttonEl =\n",
              "          document.querySelector('#df-01ddc1a8-bdc2-410e-b6d6-7fcf31c11dda button.colab-df-convert');\n",
              "        buttonEl.style.display =\n",
              "          google.colab.kernel.accessAllowed ? 'block' : 'none';\n",
              "\n",
              "        async function convertToInteractive(key) {\n",
              "          const element = document.querySelector('#df-01ddc1a8-bdc2-410e-b6d6-7fcf31c11dda');\n",
              "          const dataTable =\n",
              "            await google.colab.kernel.invokeFunction('convertToInteractive',\n",
              "                                                     [key], {});\n",
              "          if (!dataTable) return;\n",
              "\n",
              "          const docLinkHtml = 'Like what you see? Visit the ' +\n",
              "            '<a target=\"_blank\" href=https://colab.research.google.com/notebooks/data_table.ipynb>data table notebook</a>'\n",
              "            + ' to learn more about interactive tables.';\n",
              "          element.innerHTML = '';\n",
              "          dataTable['output_type'] = 'display_data';\n",
              "          await google.colab.output.renderOutput(dataTable, element);\n",
              "          const docLink = document.createElement('div');\n",
              "          docLink.innerHTML = docLinkHtml;\n",
              "          element.appendChild(docLink);\n",
              "        }\n",
              "      </script>\n",
              "    </div>\n",
              "  </div>\n",
              "  "
            ]
          },
          "metadata": {},
          "execution_count": 44
        }
      ]
    },
    {
      "cell_type": "code",
      "source": [
        "df_out = df_scale[(df_scale['age'].abs()<=3) & (df_scale['platelets'].abs()<=3) & (df_scale['serum_sodium'].abs()<=3)]\n",
        "df_out.shape"
      ],
      "metadata": {
        "colab": {
          "base_uri": "https://localhost:8080/"
        },
        "id": "kZMDjwVpeT24",
        "outputId": "a7965a23-73d5-4267-d281-10700dd7b783"
      },
      "execution_count": null,
      "outputs": [
        {
          "output_type": "execute_result",
          "data": {
            "text/plain": [
              "(293, 5)"
            ]
          },
          "metadata": {},
          "execution_count": 45
        }
      ]
    },
    {
      "cell_type": "markdown",
      "source": [
        "**3. Finding Optimal Number of Clusters**\n",
        "\n",
        "It is important that we look at various cluster evaluation metrics to get suggestions of how many clusters we could cluster our data into.\n",
        "\n",
        "**For this section we are going to be looking at 2 cluster evaluation metrics:**\n",
        "\n",
        "**Elbow Method**\n",
        "\n",
        "**Average Silhouette Method**\n",
        "\n",
        "In order to use these cluster evaluation methods, we have to apply K-protoypes clustering on our data for various number of clusters. For this we are required to feed the indexes of the categorical columns of our data."
      ],
      "metadata": {
        "id": "jvQhzpWPxnXF"
      }
    },
    {
      "cell_type": "code",
      "source": [
        "pip install kmodes"
      ],
      "metadata": {
        "colab": {
          "base_uri": "https://localhost:8080/"
        },
        "id": "NGSK_zgmp9xM",
        "outputId": "27454057-fea6-4353-cd5c-f6eeed5ee464"
      },
      "execution_count": null,
      "outputs": [
        {
          "output_type": "stream",
          "name": "stdout",
          "text": [
            "Looking in indexes: https://pypi.org/simple, https://us-python.pkg.dev/colab-wheels/public/simple/\n",
            "Requirement already satisfied: kmodes in /usr/local/lib/python3.7/dist-packages (0.12.2)\n",
            "Requirement already satisfied: scipy>=0.13.3 in /usr/local/lib/python3.7/dist-packages (from kmodes) (1.7.3)\n",
            "Requirement already satisfied: numpy>=1.10.4 in /usr/local/lib/python3.7/dist-packages (from kmodes) (1.21.6)\n",
            "Requirement already satisfied: scikit-learn>=0.22.0 in /usr/local/lib/python3.7/dist-packages (from kmodes) (1.0.2)\n",
            "Requirement already satisfied: joblib>=0.11 in /usr/local/lib/python3.7/dist-packages (from kmodes) (1.2.0)\n",
            "Requirement already satisfied: threadpoolctl>=2.0.0 in /usr/local/lib/python3.7/dist-packages (from scikit-learn>=0.22.0->kmodes) (3.1.0)\n"
          ]
        }
      ]
    },
    {
      "cell_type": "code",
      "source": [
        "from kmodes.kprototypes import KPrototypes\n",
        "\n",
        "categorical_indexes = []\n",
        "\n",
        "for c in categorical_columns:\n",
        "    categorical_indexes.append(df.columns.get_loc(c))\n",
        "\n",
        "categorical_indexes"
      ],
      "metadata": {
        "colab": {
          "base_uri": "https://localhost:8080/"
        },
        "id": "GHqg10BUqMA5",
        "outputId": "d6641cff-98cf-42ee-ab46-b002271b27ba"
      },
      "execution_count": null,
      "outputs": [
        {
          "output_type": "execute_result",
          "data": {
            "text/plain": [
              "[1, 4]"
            ]
          },
          "metadata": {},
          "execution_count": 46
        }
      ]
    },
    {
      "cell_type": "markdown",
      "source": [
        "**The Elbow Method**"
      ],
      "metadata": {
        "id": "WIV1YKCnyNg7"
      }
    },
    {
      "cell_type": "code",
      "source": [
        "import seaborn as sns\n",
        "\n",
        "num_clusters = list(range(2, 11))\n",
        "\n",
        "cost_values = []\n",
        "\n",
        "# calculate cost values for each number of clusters (2 to 10)\n",
        "for k in num_clusters:\n",
        "    kproto = KPrototypes(n_clusters=k, init='Huang', random_state=42)\n",
        "    kproto.fit_predict(df_scale, categorical= categorical_indexes)\n",
        "    cost_values.append(kproto.cost_)\n",
        "\n",
        "# plot cost against number of clusters\n",
        "ax = sns.lineplot(x=num_clusters, y=cost_values, marker=\"o\")\n",
        "ax.set_title('Elbow curve', fontsize=14)\n",
        "ax.set_xlabel('No of clusters', fontsize=11)\n",
        "ax.set_ylabel('Cost', fontsize=11)"
      ],
      "metadata": {
        "colab": {
          "base_uri": "https://localhost:8080/",
          "height": 314
        },
        "id": "4smJ0hnyrV6p",
        "outputId": "b0d0c66f-515d-4247-b3d3-3530c21a74f3"
      },
      "execution_count": null,
      "outputs": [
        {
          "output_type": "execute_result",
          "data": {
            "text/plain": [
              "Text(0, 0.5, 'Cost')"
            ]
          },
          "metadata": {},
          "execution_count": 48
        },
        {
          "output_type": "display_data",
          "data": {
            "text/plain": [
              "<Figure size 432x288 with 1 Axes>"
            ],
            "image/png": "[encoded data removed]"
          },
          "metadata": {
            "needs_background": "light"
          }
        }
      ]
    },
    {
      "cell_type": "markdown",
      "source": [
        "**The Average Silhouette Method**"
      ],
      "metadata": {
        "id": "tOHjYw5zyUMu"
      }
    },
    {
      "cell_type": "code",
      "source": [
        "from sklearn.metrics import silhouette_score\n",
        "silhouette_avg = []\n",
        "\n",
        "# calculate average silhouette score for each number of cluster (2 to 10)\n",
        "for k in num_clusters:\n",
        "    kproto = KPrototypes(n_clusters=k, init='Huang', random_state=42)\n",
        "    kproto.fit_predict(df_scale, categorical= categorical_indexes)\n",
        "    cluster_labels = kproto.labels_\n",
        "    silhouette_avg.append(silhouette_score(df_scale, cluster_labels))\n",
        "\n",
        "# plot average silhouette score against number of clusters\n",
        "ax = sns.lineplot(x=num_clusters, y=silhouette_avg, marker=\"o\")\n",
        "ax.set_title('Average Silhouette', fontsize=14)\n",
        "ax.set_xlabel('No of clusters', fontsize=11)\n",
        "ax.set_ylabel('score', fontsize=11)\n"
      ],
      "metadata": {
        "colab": {
          "base_uri": "https://localhost:8080/",
          "height": 314
        },
        "id": "sLTNYq6Yrxot",
        "outputId": "f63ab42f-a2b6-412d-a7d4-9aaea1c30803"
      },
      "execution_count": null,
      "outputs": [
        {
          "output_type": "execute_result",
          "data": {
            "text/plain": [
              "Text(0, 0.5, 'score')"
            ]
          },
          "metadata": {},
          "execution_count": 49
        },
        {
          "output_type": "display_data",
          "data": {
            "text/plain": [
              "<Figure size 432x288 with 1 Axes>"
            ],
            "image/png": "[encoded data removed]"
          },
          "metadata": {
            "needs_background": "light"
          }
        }
      ]
    },
    {
      "cell_type": "markdown",
      "source": [
        "**From the above two plots we note that 5 clusters seems reasonable for our data. We note that the cluster quality is quite poor with a low silhouette score.**"
      ],
      "metadata": {
        "id": "XMCVGDySyd2K"
      }
    },
    {
      "cell_type": "markdown",
      "source": [
        "**4. Clustering the Data**"
      ],
      "metadata": {
        "id": "jBvsanv-y5aG"
      }
    },
    {
      "cell_type": "code",
      "source": [
        "# we set the number of clusters to 5\n",
        "kproto = KPrototypes(n_clusters= 5, init='Huang', n_init = 25, random_state=42)\n",
        "kproto.fit_predict(df_scale, categorical= categorical_indexes)\n",
        "\n",
        "# store cluster labels\n",
        "cluster_labels = kproto.labels_\n",
        "\n",
        "# add clusters to dataframe\n",
        "df[\"cluster\"] = cluster_labels\n",
        "\n",
        "# check if clusters have been added to the dataframe\n",
        "df.head()"
      ],
      "metadata": {
        "colab": {
          "base_uri": "https://localhost:8080/",
          "height": 206
        },
        "id": "k0399guDsZ1n",
        "outputId": "8817fbc4-59ff-407d-b0c3-4567c9435839"
      },
      "execution_count": null,
      "outputs": [
        {
          "output_type": "execute_result",
          "data": {
            "text/plain": [
              "    age  gender  serum_sodium  platelets  smoking  cluster\n",
              "0  75.0       1           130  265000.00        0        0\n",
              "1  55.0       1           136  263358.03        0        3\n",
              "2  65.0       1           129  162000.00        1        1\n",
              "3  50.0       1           137  210000.00        0        3\n",
              "4  65.0       0           116  327000.00        0        1"
            ],
            "text/html": [
              "\n",
              "  <div id=\"df-9a085109-7dc1-443f-983f-451edbf0eae5\">\n",
              "    <div class=\"colab-df-container\">\n",
              "      <div>\n",
              "<style scoped>\n",
              "    .dataframe tbody tr th:only-of-type {\n",
              "        vertical-align: middle;\n",
              "    }\n",
              "\n",
              "    .dataframe tbody tr th {\n",
              "        vertical-align: top;\n",
              "    }\n",
              "\n",
              "    .dataframe thead th {\n",
              "        text-align: right;\n",
              "    }\n",
              "</style>\n",
              "<table border=\"1\" class=\"dataframe\">\n",
              "  <thead>\n",
              "    <tr style=\"text-align: right;\">\n",
              "      <th></th>\n",
              "      <th>age</th>\n",
              "      <th>gender</th>\n",
              "      <th>serum_sodium</th>\n",
              "      <th>platelets</th>\n",
              "      <th>smoking</th>\n",
              "      <th>cluster</th>\n",
              "    </tr>\n",
              "  </thead>\n",
              "  <tbody>\n",
              "    <tr>\n",
              "      <th>0</th>\n",
              "      <td>75.0</td>\n",
              "      <td>1</td>\n",
              "      <td>130</td>\n",
              "      <td>265000.00</td>\n",
              "      <td>0</td>\n",
              "      <td>0</td>\n",
              "    </tr>\n",
              "    <tr>\n",
              "      <th>1</th>\n",
              "      <td>55.0</td>\n",
              "      <td>1</td>\n",
              "      <td>136</td>\n",
              "      <td>263358.03</td>\n",
              "      <td>0</td>\n",
              "      <td>3</td>\n",
              "    </tr>\n",
              "    <tr>\n",
              "      <th>2</th>\n",
              "      <td>65.0</td>\n",
              "      <td>1</td>\n",
              "      <td>129</td>\n",
              "      <td>162000.00</td>\n",
              "      <td>1</td>\n",
              "      <td>1</td>\n",
              "    </tr>\n",
              "    <tr>\n",
              "      <th>3</th>\n",
              "      <td>50.0</td>\n",
              "      <td>1</td>\n",
              "      <td>137</td>\n",
              "      <td>210000.00</td>\n",
              "      <td>0</td>\n",
              "      <td>3</td>\n",
              "    </tr>\n",
              "    <tr>\n",
              "      <th>4</th>\n",
              "      <td>65.0</td>\n",
              "      <td>0</td>\n",
              "      <td>116</td>\n",
              "      <td>327000.00</td>\n",
              "      <td>0</td>\n",
              "      <td>1</td>\n",
              "    </tr>\n",
              "  </tbody>\n",
              "</table>\n",
              "</div>\n",
              "      <button class=\"colab-df-convert\" onclick=\"convertToInteractive('df-9a085109-7dc1-443f-983f-451edbf0eae5')\"\n",
              "              title=\"Convert this dataframe to an interactive table.\"\n",
              "              style=\"display:none;\">\n",
              "        \n",
              "  <svg xmlns=\"http://www.w3.org/2000/svg\" height=\"24px\"viewBox=\"0 0 24 24\"\n",
              "       width=\"24px\">\n",
              "    <path d=\"M0 0h24v24H0V0z\" fill=\"none\"/>\n",
              "    <path d=\"M18.56 5.44l.94 2.06.94-2.06 2.06-.94-2.06-.94-.94-2.06-.94 2.06-2.06.94zm-11 1L8.5 8.5l.94-2.06 2.06-.94-2.06-.94L8.5 2.5l-.94 2.06-2.06.94zm10 10l.94 2.06.94-2.06 2.06-.94-2.06-.94-.94-2.06-.94 2.06-2.06.94z\"/><path d=\"M17.41 7.96l-1.37-1.37c-.4-.4-.92-.59-1.43-.59-.52 0-1.04.2-1.43.59L10.3 9.45l-7.72 7.72c-.78.78-.78 2.05 0 2.83L4 21.41c.39.39.9.59 1.41.59.51 0 1.02-.2 1.41-.59l7.78-7.78 2.81-2.81c.8-.78.8-2.07 0-2.86zM5.41 20L4 18.59l7.72-7.72 1.47 1.35L5.41 20z\"/>\n",
              "  </svg>\n",
              "      </button>\n",
              "      \n",
              "  <style>\n",
              "    .colab-df-container {\n",
              "      display:flex;\n",
              "      flex-wrap:wrap;\n",
              "      gap: 12px;\n",
              "    }\n",
              "\n",
              "    .colab-df-convert {\n",
              "      background-color: #E8F0FE;\n",
              "      border: none;\n",
              "      border-radius: 50%;\n",
              "      cursor: pointer;\n",
              "      display: none;\n",
              "      fill: #1967D2;\n",
              "      height: 32px;\n",
              "      padding: 0 0 0 0;\n",
              "      width: 32px;\n",
              "    }\n",
              "\n",
              "    .colab-df-convert:hover {\n",
              "      background-color: #E2EBFA;\n",
              "      box-shadow: 0px 1px 2px rgba(60, 64, 67, 0.3), 0px 1px 3px 1px rgba(60, 64, 67, 0.15);\n",
              "      fill: #174EA6;\n",
              "    }\n",
              "\n",
              "    [theme=dark] .colab-df-convert {\n",
              "      background-color: #3B4455;\n",
              "      fill: #D2E3FC;\n",
              "    }\n",
              "\n",
              "    [theme=dark] .colab-df-convert:hover {\n",
              "      background-color: #434B5C;\n",
              "      box-shadow: 0px 1px 3px 1px rgba(0, 0, 0, 0.15);\n",
              "      filter: drop-shadow(0px 1px 2px rgba(0, 0, 0, 0.3));\n",
              "      fill: #FFFFFF;\n",
              "    }\n",
              "  </style>\n",
              "\n",
              "      <script>\n",
              "        const buttonEl =\n",
              "          document.querySelector('#df-9a085109-7dc1-443f-983f-451edbf0eae5 button.colab-df-convert');\n",
              "        buttonEl.style.display =\n",
              "          google.colab.kernel.accessAllowed ? 'block' : 'none';\n",
              "\n",
              "        async function convertToInteractive(key) {\n",
              "          const element = document.querySelector('#df-9a085109-7dc1-443f-983f-451edbf0eae5');\n",
              "          const dataTable =\n",
              "            await google.colab.kernel.invokeFunction('convertToInteractive',\n",
              "                                                     [key], {});\n",
              "          if (!dataTable) return;\n",
              "\n",
              "          const docLinkHtml = 'Like what you see? Visit the ' +\n",
              "            '<a target=\"_blank\" href=https://colab.research.google.com/notebooks/data_table.ipynb>data table notebook</a>'\n",
              "            + ' to learn more about interactive tables.';\n",
              "          element.innerHTML = '';\n",
              "          dataTable['output_type'] = 'display_data';\n",
              "          await google.colab.output.renderOutput(dataTable, element);\n",
              "          const docLink = document.createElement('div');\n",
              "          docLink.innerHTML = docLinkHtml;\n",
              "          element.appendChild(docLink);\n",
              "        }\n",
              "      </script>\n",
              "    </div>\n",
              "  </div>\n",
              "  "
            ]
          },
          "metadata": {},
          "execution_count": 50
        }
      ]
    },
    {
      "cell_type": "markdown",
      "source": [
        "**5. Cluster Exploration**\n",
        "\n",
        "In order to visualise our clusters we can make use of a dimension reduction algorithm called principle component analysis (PCA)."
      ],
      "metadata": {
        "id": "lAUxcImgzGLR"
      }
    },
    {
      "cell_type": "code",
      "source": [
        "from sklearn.decomposition import PCA\n",
        "\n",
        "pca = PCA(n_components=3)\n",
        "pca_df = pca.fit_transform(df_scale)\n",
        "import plotly.graph_objects as go\n",
        "\n",
        "\n",
        "fig = go.Figure(\n",
        "    go.Scatter3d(mode='markers',\n",
        "                 x = pca_df[:, 0],\n",
        "                 y = pca_df[:, 1],\n",
        "                 z = pca_df[:, 2],\n",
        "                 marker=dict(size = 3, color = df['cluster'], colorscale = 'spectral')\n",
        "                )\n",
        ")\n",
        "    \n",
        "fig.show()"
      ],
      "metadata": {
        "colab": {
          "base_uri": "https://localhost:8080/",
          "height": 542
        },
        "id": "OrMhTtTEtJcs",
        "outputId": "e3bc595d-a406-4a22-dc43-f663305c3db1"
      },
      "execution_count": null,
      "outputs": [
        {
          "output_type": "display_data",
          "data": {
            "text/html": [
              "<html>\n",
              "<head><meta charset=\"utf-8\" /></head>\n",
              "<body>\n",
              "    <div>            <script src=\"https://cdnjs.cloudflare.com/ajax/libs/mathjax/2.7.5/MathJax.js?config=TeX-AMS-MML_SVG\"></script><script type=\"text/javascript\">if (window.MathJax) {MathJax.Hub.Config({SVG: {font: \"STIX-Web\"}});}</script>                <script type=\"text/javascript\">window.PlotlyConfig = {MathJaxConfig: 'local'};</script>\n",
              "        <script src=\"https://cdn.plot.ly/plotly-2.8.3.min.js\"></script>                <div id=\"76b40152-3e27-41d9-9d37-1448be444004\" class=\"plotly-graph-div\" style=\"height:525px; width:100%;\"></div>            <script type=\"text/javascript\">                                    window.PLOTLYENV=window.PLOTLYENV || {};                                    if (document.getElementById(\"76b40152-3e27-41d9-9d37-1448be444004\")) {                    Plotly.newPlot(                        \"76b40152-3e27-41d9-9d37-1448be444004\",                        [{\"marker\":{\"color\":[0,3,1,3,1,0,0,4,2,0,0,2,3,3,4,0,0,1,2,1,2,0,2,4,0,2,0,0,3,0,0,0,1,3,2,0,0,2,3,2,0,3,2,0,2,3,1,4,0,4,0,4,2,0,1,0,0,3,3,0,4,1,3,4,3,1,3,2,2,4,4,3,0,0,0,3,2,3,0,2,0,0,1,0,2,4,3,2,3,2,0,0,3,3,2,2,0,0,2,2,2,0,2,3,2,4,3,3,0,4,0,3,3,0,1,3,3,4,2,0,3,0,2,2,3,3,1,3,3,2,3,1,3,2,0,0,2,0,3,3,0,4,1,2,0,3,3,0,0,3,0,2,3,3,0,3,3,3,0,4,0,3,4,3,3,0,3,3,2,0,3,3,2,3,0,4,0,3,2,3,3,3,0,0,3,4,3,2,3,3,0,0,1,2,3,2,3,2,3,1,3,4,0,3,0,4,3,0,2,1,4,3,4,1,0,0,2,3,0,4,0,2,4,3,4,1,1,3,1,0,1,0,3,3,3,0,2,0,0,3,4,0,3,2,3,3,3,0,3,1,4,2,3,0,3,4,2,3,3,3,3,0,1,2,2,4,3,3,3,3,1,3,0,3,3,4,2,2,3,4,0,0,1,0,3,4,2,4,2,2,3,3,4,3,2,3,4,3,4],\"colorscale\":[[0.0,\"rgb(158,1,66)\"],[0.1,\"rgb(213,62,79)\"],[0.2,\"rgb(244,109,67)\"],[0.3,\"rgb(253,174,97)\"],[0.4,\"rgb(254,224,139)\"],[0.5,\"rgb(255,255,191)\"],[0.6,\"rgb(230,245,152)\"],[0.7,\"rgb(171,221,164)\"],[0.8,\"rgb(102,194,165)\"],[0.9,\"rgb(50,136,189)\"],[1.0,\"rgb(94,79,162)\"]],\"size\":3},\"mode\":\"markers\",\"x\":[-1.521498389369991,0.1618050294052271,-1.8413674816549592,0.18643558235246385,-2.4266175624270065,-2.3311922714005657,-1.4751810361748534,0.47366086405058067,0.03401076447794856,-0.5932435096391627,-0.749765262889157,0.29436456567649777,-0.04800705299166237,0.5993114465607761,1.7888371257559637,-2.4254502541652565,-0.7891813498598572,-1.1597694214603116,-0.09946917468485737,-2.5014398536969407,-0.016848249695876998,-0.015421978122293333,0.2453950367228015,0.7778614624230042,-0.9427200981807987,-0.6589780562465594,-1.7582332500650084,-0.39704823943772405,-0.9255350534558988,-1.9906489899900963,-1.8802161614268416,-1.1242783058636232,-0.23190689823522367,0.9611795040926384,-0.24679610545263655,-0.9590112689941178,-1.9311335690996887,0.5273767142727473,0.32376902269162117,1.1928989767334144,-0.7860647493126945,-0.2333524520636249,-0.626532070999372,-1.1586554910138858,0.3483801635800504,0.5495716593457396,-0.3872660367181361,1.3644970303990838,-2.1421090768122273,1.4829754706718101,-0.7813953095865829,1.6796961625996167,1.3020361253089605,-0.16597988419032145,-0.5720024336731641,-0.949410696050984,-0.518758985917587,-0.10559127397899472,0.7815119927720025,-0.6761106020700027,1.8008260978863242,-0.4864135094458603,0.4905472424321641,2.549207552826727,0.8179825955429868,-2.1417702178866374,0.5101020747948878,-0.03122341749063438,0.2042073328680852,1.0364970145136985,2.010914560339479,-0.47229175888175523,-1.8587413816607656,-0.883144942845321,-0.723841633392953,-0.05071629134235424,0.39843964723068737,1.1107353707934144,-1.281499330430164,1.1302126471671272,-0.2689235459334429,-0.2591475116645789,-0.9385416624315189,-1.8962310819878863,0.9397476501515676,1.7566859922712914,-0.2735039175628405,0.47886450436803196,0.8768891441204494,0.5947533775555166,-0.6159975613663741,-0.24604982294078134,0.9550698684402834,-0.5304086371390699,1.2717791021737843,0.3969440618376569,-0.5221886554810987,-0.5066399525988343,0.4743697247806641,0.12031001014621398,0.5712736564781553,-0.62216680165981,-0.6589780562465594,1.0393759556944693,1.0538474170903938,1.948892742121741,0.28950862453940235,0.6449488106941866,-0.3418940025165748,5.065728951206602,-1.4646326021891956,-0.19187411162068693,0.3192314470832385,0.22385008056049763,-0.9617265317463642,-0.13772913327331862,0.05040874232144205,0.6442454439681748,-0.08368401353909945,-1.4453734321375533,-0.5329554082032966,-0.9056365489080898,0.3011871474292406,0.3190785692103112,-0.6165620943369463,0.48459967347278077,-0.8691705098277832,0.45315873162508,-0.09213323425403545,1.1952416956322203,0.4207169615521865,-0.79995412698361,0.7722868379105544,1.1611246022764772,-1.1013100821599706,-0.62216680165981,-0.6674405205695797,-0.9514002894530811,-0.3537675185557794,0.3226345988483183,-1.2404755545727901,1.6916111437529489,0.350423337221673,0.3916904062926618,0.23919773530957628,1.0539810127085036,0.012599533737744553,-0.2531227873096776,-1.2519528995254525,-0.28786280713501505,-0.853088687692248,0.11066676094689383,-0.3685892211810065,0.5176803680867688,-0.4032750626816162,0.019216852183007452,0.4535089728543828,0.3792416251414833,-1.6463535267273033,0.9833792624251266,-0.734344267325361,0.44704922577671485,1.0786993511814393,0.060910045346962344,1.4505071828004843,-1.4876496299783326,-0.41041479882101245,-1.490453488804844,0.07556090241424653,-0.5836851717372962,0.3420412888707302,1.201732175682614,0.09682660429204182,0.31495263236248744,-0.05739321442869807,0.6513478104029095,-1.6010651926811361,0.2032937698102694,0.9885119157977841,0.7768829368219491,1.0952294639321651,-0.2885036849525394,-0.28742765460825864,-1.2582085944376997,-0.12537599556099518,0.6888250033959425,-0.4906923241666112,1.6779906367415245,-0.41796897187669013,1.5091199609535004,-0.6984698236567206,-0.02460120312650174,-0.4103829231204226,-0.530181751952028,-0.37045064528134647,0.07352073280485831,0.8179825955429868,0.00674825837952796,0.2975252347765287,-3.057916926244106,-1.2646394698470125,1.3296720992762923,-0.5349792995901017,-0.390500696795196,-0.6764608432993052,1.0766345556602541,1.3325342318369968,-1.6929959342602003,0.7751936891864397,-0.24536493796018294,0.2597997263482259,0.17960999656748727,0.7296442403827185,-0.3498058582216819,-0.3883751539050661,-1.2981866723300253,0.7874132312806531,-0.29615677977001525,-0.6443206301350584,1.4242303080427428,-0.9206052511457646,0.43790790087465153,1.7789742269132156,-0.5667627024808285,1.7899871470772735,-2.1019383290581937,-0.9627634508464412,-0.08385619000393012,-1.17042360235876,-0.739059907698216,-2.426521388590668,-1.2762486789174037,0.9248994297279086,0.7974849278605987,0.6410925550544201,0.1787663290772348,0.7111345856267209,-1.6086568899673555,-0.26564977461217903,0.28920157992460777,1.62227319775669,-0.3875187732042129,0.7924093370800755,-0.21295993950674919,-0.04836988766673751,0.13419228207750467,0.738492386647613,-0.4879866508279018,1.8598312325450823,-0.7096542395410332,1.7292037067254533,0.9382629850789622,0.06702677040185653,-1.1452714422659553,0.6430265094209116,1.5179200730600508,0.3556409018917842,0.3497510456868469,0.29890871032909755,0.3999729966239487,0.044110251388180234,-0.35574439874727576,-1.613615693749835,-0.1894928118751601,-0.19055324474143384,1.524584402700623,-0.1006283848262114,-0.17959750693433935,1.4495449354220122,0.06874488970572094,-0.117748337203882,-0.11100082776623767,-1.0096104409422424,0.8104620150055516,-0.6484104597709124,1.81039836014085,0.7234300105845979,-1.494327594819857,0.2633942170681257,1.4049126146880886,-0.533553028016518,-1.8546251539913083,-0.5887565473435252,-0.03781267481610825,1.137851817631943,0.48628770996623105,0.5509509197240146,1.9176208366047227,0.553784050812374,0.46351028057473637,1.0790326640258472,-0.49232385904767456,1.5583067856807016,-0.7340259017966485,0.07113642902709699,0.662461800322175,3.9421640536435425,0.36429892034391853,1.211249048470353],\"y\":[-0.17748803407387018,0.4783901207747961,0.855157849432483,0.8267492511945085,2.058706411661338,-1.3225372895279734,-0.6965647438666354,0.27306101714702746,-0.44070752323793116,-1.1873184553297906,-0.5560177979031637,-0.47647461703340716,1.3439205620292902,0.6719417260257609,0.2749765752303744,-0.8695631663373139,-2.1990397425833326,2.477503750147596,-0.9632722428463983,3.1879051506603115,-0.3499651061450596,-0.27882702147016014,-0.9732341699001474,0.49077992492097877,-0.646325899554118,-1.9510728382483824,-2.3443100685577427,-0.6173659239433494,0.7718729533415764,-0.7633962358181509,-1.9608938800762747,-1.3283055708984446,1.6635283776330059,0.49945279819358285,-0.5136310254020624,-0.15996301064924634,-1.5983886695979947,-2.586913293844429,-0.0832782366274251,-0.732656125338554,-0.3281587190269609,1.0731913857852842,-0.746339709694186,-0.34266686731405716,-0.416004369311571,0.8164412665586632,1.4577148929186625,-0.5626674486727179,-0.5890762743432074,-0.44051405920822395,-0.4273980103062808,-0.09918772193106452,-1.0602684820877524,-0.5082969120390468,0.6283250160264879,-2.2524064700993547,-0.7150762905930546,-0.01145883632945113,0.7436559724210249,-0.6844385619127571,0.5073560979832911,1.5439368661348207,0.12261377092977369,-0.20328620620880963,1.0540844499063153,1.5404065838118544,1.4987572287748845,-1.2129300311812905,-1.2204812717911762,-0.6364365889127834,0.6828283828989631,0.22606927897082923,-1.070415226330592,-0.07750995525695377,-0.2656357933716336,-0.10370703807281616,-1.1674589052216249,0.951992605942325,-0.35664447003432254,-0.1365389963593696,-0.6130439843782406,-0.4831842502344792,0.7832547385752948,-0.5954146209322718,-0.4802109021996918,-0.06288710812151181,0.5699360508708012,-0.7857169787289516,0.9396390727056769,-0.4290333640080281,-0.5352710242326502,0.41706640988315413,1.2602439922027544,0.38034082587568274,-0.5905252933479354,-0.22569974333640494,0.19137129130139793,-0.5239123789780528,-0.10487974863716695,-0.4447042138107683,-0.8920385918512936,-1.0164018523694505,-1.9510728382483824,0.9612526828149168,-0.752191701623871,-1.7771613942847815,0.3588348801861459,1.0124243668433155,0.1779467103223758,-0.9493316918977713,-1.2181860458098506,0.665178651577284,0.8486303960429881,-0.8694819855430044,1.1871189559343398,0.15298745595156457,0.1257569983328056,-2.3865834173799216,-0.5399236745381298,-1.4022442213077284,0.36379964855348323,-0.030895112875323278,-0.2549636514564691,-0.6200363490836183,0.48431687043486205,1.4941387603281493,2.5325751563986847,0.07478018036405688,0.04098736851973608,-0.38244515268625223,0.3921763331111997,0.7680981813544459,0.9853646024741691,-1.2456834666249885,-1.3693641363506484,-1.0164018523694505,-0.10602597557612455,0.20972815542463805,0.10559573162665471,0.7040086581300261,-0.9988160160262248,0.4256459850140396,1.158492593996101,-0.4464240919530974,-1.242651394722393,0.19727613632991306,0.7743988550040325,-0.21038680687675176,-0.5652453895526359,0.21772556723743255,-0.49404567807776945,-0.31842829814142304,1.2323779300184998,0.6850531561120089,-0.13340177055406416,-0.18410519962030755,0.6614423664109995,0.8086335330891602,-1.2758995495057281,-0.40558702362039817,0.013358571762912875,0.9974577303042644,-0.6413952607783494,0.5503167640262706,0.6387079375204099,-0.9429450093189382,1.0621729439495178,0.8978352966519455,-0.4562867192674017,-0.2800057336322372,0.7367283331811817,0.04184292074033233,-1.447599739633635,0.6352161420182892,-0.3871250055944483,-0.29527263247215446,-0.008394279203736013,0.7261292523607733,-1.1634663695342295,-0.05642046765061641,1.4162048736431472,0.28632321728951926,-0.22920088408252384,-0.5628998209894732,0.2393391773466722,-0.2057471096690261,1.3305226121101221,-1.0578866426150542,0.24411065951696245,1.0091915747178049,-1.2020406971087223,-0.11785897229464856,1.5522359945456004,-1.2550451114155117,1.6081662966635568,-2.0223392168051135,1.0540844499063153,-0.43048546507261054,1.0349809731516046,2.8873352698222052,0.2547341277299141,0.8990335628083652,-0.6914984075813667,0.23871348692583852,-1.2711007479596996,0.5995087334064509,1.0037294098114649,-1.4017567389133876,-0.5043649469317442,1.6110821727838187,-0.8636506230754474,0.5967938198476098,-1.8699917593462374,1.7360956657318733,-0.030508871836757014,-0.37620318629876087,-1.3674810634904206,0.6991492860039051,-0.19210261143310214,-0.24678071882802297,-0.5177770840012004,-1.1462207366098345,0.7556136770366015,1.5817393520479317,-0.5330017103338563,0.4333779677440977,0.9116813567481531,0.28380917138805467,0.5842772393275251,-0.46512782753980103,1.6995360485457105,-0.1443645871875903,1.4083971401736441,0.32258030399632903,0.3812195180753999,-1.4884180678533598,-2.3047238095238494,0.14111346189520152,-0.1850042789436466,0.3414539189512772,-1.5371655130412791,-0.1916717870719184,1.5122509873527639,-1.2499521440703878,0.7863942325590868,-0.0980500071068262,0.11881585896352201,0.021020967873235177,0.6819846864393583,1.441753368397561,0.13980978024965424,-0.2795861934891833,1.1582129611573628,0.0022335217273177378,0.25464474213513105,-0.22005724533077145,-0.632975389284629,-0.06465902548130305,1.357190460405133,0.6149728613885497,0.379173969474597,0.32135555421451634,0.7872585584808196,-0.7578110596503833,-0.2629783490851198,0.09249657876759979,0.7026389924552346,0.2338538724612111,0.6022619863516767,2.0877760252646134,1.9401374122141208,1.1023041023829028,0.13725497934885736,1.0645798969741411,0.26374371334061525,0.6819788322760935,-1.4151634625336917,-0.47513714362356785,0.9044326466176199,0.04715389412422663,-0.6203603229064671,-0.07084844872640822,2.4317942310255374,-0.4661395798715056,0.18332492233099562,0.42839842407789686,-0.3834785274891488,1.0001401586399856,-0.9222876212432077,-3.1781212796585168,0.6695124469033846,0.07936950723394474,-0.09185448735994954,0.10995770721377308,-0.6077939713474064,0.11051673055274278,-0.18899813243733368,0.9568120369504818,0.49667291418850285],\"z\":[1.1682260804326303,-0.0244715178087937,0.3585795714788609,-0.6607763998589549,3.5124713460919956,0.667656315710652,-0.8916807614967592,2.2487702835543915,-0.1021205822078945,1.783241449049741,1.830524722226566,-0.548976106672535,-1.3146255484614984,-0.15082075547278367,0.8996173369702852,-1.2529478441957447,-0.0774399716950254,0.33665239903109556,-0.5075938411593165,0.6692728449860185,0.1375068644277605,0.441713471282339,-0.17232164385841714,0.8931709111639998,0.6298327863913966,-1.6248440317307637,-0.13008498908796523,0.3896696032403126,-0.5440195418593722,0.505420794882608,0.8996539185772379,1.7825185565308685,1.5010405314226796,-0.0497916073271842,-1.010363496340763,0.21605304601917008,0.5453387797863138,-0.37130567111939916,0.23741206170269666,-0.24480396242356464,0.5140733294196345,-0.9087523568125968,-0.801107841534061,0.1880354585957326,-1.2878950532134577,0.4041864181125472,0.8205983300538182,1.2319545324148942,-0.14136228299097064,0.4997992481242784,-0.8472043063710006,0.7537944972549059,-1.3197852228977776,1.2249265918979417,0.611314280383502,2.727066622127625,-0.36554902324668115,-0.5837966256267715,0.31536169166625383,0.19070386259927397,0.36403503689459166,0.27935668395823504,-0.5142144916390373,-0.5262859228582346,-0.2884953848211207,0.22815102918777752,-0.5848921998558225,-0.22255609487719658,-0.7374036219151049,2.0868960751257455,0.04120363958993084,-1.484877361109637,0.8869130431026101,-0.8774501791175199,0.5180706368311594,-0.8184638264286905,0.11894097789841729,-1.0093312780340669,1.1737636650625591,-0.08162167915897364,0.4928877674285013,0.038980931922775894,0.1470380754486403,0.0894727987623496,-0.32789032761708353,0.4442094935266484,-0.8645799259058763,-0.11407781832870666,-0.8500042071129026,-1.7635707901131852,0.11923857970219212,0.7433912272493798,-0.3377438041228606,-0.21271901672307486,-0.29308944330309317,-1.027699846595146,0.3184478249011512,0.19927694187282763,0.3799433938372718,-0.7461324302903265,-0.30238541509551925,0.16190328480443314,-1.6248440317307637,-1.0859171201754458,-0.718995784073533,2.784555847341711,-0.169185865379281,-0.7611794806666093,0.8551326165150596,3.500834133313943,1.3736888854712268,-0.1473141381976732,-0.19431117888150282,0.7990826137028231,1.9765517972193727,-1.1266813747283637,0.158741154960645,2.1087264223925812,-0.8523789628611523,0.8104103238311094,-0.20431225146675913,-0.5849614797403074,-0.7412946448844423,-2.231421276467264,-0.01668481928374452,-0.24108965121644405,1.6322911109996676,0.20803230219745958,0.11057213390229162,-1.615759710978062,-0.443731781804413,0.6641369811044593,-0.2720792450538741,-0.9177827023180751,0.01878931230487971,0.16190328480443314,-0.6660596055140829,1.3623771289626134,-0.19475659913074803,-0.7949977919181421,0.669827961835785,-0.04392852092376786,1.0105145672210318,-0.8590998971763844,0.41389434089564425,-0.7874719678684703,-0.4157765569562965,-0.18369922159693367,0.2913700826050966,-0.21558819734946197,0.21952520068867257,-0.484974285249804,-0.42741727389298,-0.24009344412041664,-0.037335770413760044,-1.04608459114189,0.07377164085777839,-0.10863840690000982,0.5327974870027401,0.3859229400618636,0.2749770361326783,-1.2965039431129215,1.399971142430787,-2.371521930915533,-0.06865460076640109,0.018610489908383276,0.041936762351104405,-1.1689112579110967,-0.050800732339052156,1.0114509536938328,-0.08172931162146378,-0.15682225592372512,-1.722335203976958,-1.1069309994452383,0.1424611096548201,0.3511220557478733,-0.8678600641759006,-1.6636258468858567,-1.142534286404887,-0.4629974675578004,0.03558405774443498,-0.277683776568017,0.1607834916262427,0.2836434819325788,-0.45150111041200525,1.0393440761506456,-0.6332631366055005,-0.2505423236763388,-0.37117132689084237,-0.7064672086210417,1.3392758655060455,0.6599645323170114,0.7191895828888766,-1.370868417240383,-1.1079955697232629,-1.2526787592542141,-0.2884953848211207,-0.13579333973674715,0.340288548131733,3.330819779113,-1.5059108750196761,0.6894332063469799,-0.39713559052055003,-0.3308070428534299,0.3249645239389551,0.6977004184872918,-1.2270186343061165,-0.12970193141404102,-0.4582796006276736,0.8066717718936165,1.2009626738546737,-1.5649894551663737,1.7592430684008655,0.6048172159859444,0.6294377286462827,0.08855258827521334,0.2853768474836222,-1.008895757076668,0.5318807351701856,0.28152855244935954,0.5549149834650586,-1.6653370907078722,0.13002836603622417,-0.9023088947669928,1.6002253232675248,1.920051567483007,0.026440833070994114,-1.5376751256215624,0.8298053873215131,0.66281061964857,-0.17858645101020348,-0.09136787787552983,-0.4772407672681222,0.3240708654012292,0.13090584858828602,1.2968731056701797,-1.5181900001708835,0.09140213426135432,0.13264944438162993,-0.15801274528418358,1.9214279506376364,0.03715788086595903,-0.3268860092801002,-0.7316456260220843,0.24796857372110892,0.07611638600203555,0.0829227761874167,0.13110316655654977,-0.8231503347345223,0.5246393006993053,0.5963736685379176,-1.226039519898241,0.40151801410900584,0.6202635000218157,-0.48314777553840504,-0.3711788353344778,-0.007310308930332822,-0.48109943826613094,-0.28124929776386637,0.43798163606925156,-0.7747298984620509,0.7101366207604698,0.6283304304331829,-0.7644975401968239,-1.5347666757146825,0.09622968942493763,0.2678312329109353,-1.5830717912344578,-0.41576829162682977,-0.022478625802675817,0.6550456663980471,-0.09143815110704832,0.26680847386549744,-1.3802081103149177,-0.9518042772812351,0.9372677672704159,-0.09609576609613373,-2.1869460470576674,-0.3067576689400125,1.4674485771776025,-0.09292898366597167,-1.410628353456318,0.5324661852073339,-0.1357993403434235,-0.6954329243820556,0.6787519691779255,-0.3893235339778831,2.5819264123035923,-0.6699125531347196,0.43510688615400334,-1.1758443381599541,-1.3754592394337646,0.2835939824097857,-0.5365364457447751,-1.732026950774391,-0.3569101227432246,3.267831989744382,-1.7011563587102305,0.9189994825448476],\"type\":\"scatter3d\"}],                        {\"template\":{\"data\":{\"bar\":[{\"error_x\":{\"color\":\"#2a3f5f\"},\"error_y\":{\"color\":\"#2a3f5f\"},\"marker\":{\"line\":{\"color\":\"#E5ECF6\",\"width\":0.5},\"pattern\":{\"fillmode\":\"overlay\",\"size\":10,\"solidity\":0.2}},\"type\":\"bar\"}],\"barpolar\":[{\"marker\":{\"line\":{\"color\":\"#E5ECF6\",\"width\":0.5},\"pattern\":{\"fillmode\":\"overlay\",\"size\":10,\"solidity\":0.2}},\"type\":\"barpolar\"}],\"carpet\":[{\"aaxis\":{\"endlinecolor\":\"#2a3f5f\",\"gridcolor\":\"white\",\"linecolor\":\"white\",\"minorgridcolor\":\"white\",\"startlinecolor\":\"#2a3f5f\"},\"baxis\":{\"endlinecolor\":\"#2a3f5f\",\"gridcolor\":\"white\",\"linecolor\":\"white\",\"minorgridcolor\":\"white\",\"startlinecolor\":\"#2a3f5f\"},\"type\":\"carpet\"}],\"choropleth\":[{\"colorbar\":{\"outlinewidth\":0,\"ticks\":\"\"},\"type\":\"choropleth\"}],\"contour\":[{\"colorbar\":{\"outlinewidth\":0,\"ticks\":\"\"},\"colorscale\":[[0.0,\"#0d0887\"],[0.1111111111111111,\"#46039f\"],[0.2222222222222222,\"#7201a8\"],[0.3333333333333333,\"#9c179e\"],[0.4444444444444444,\"#bd3786\"],[0.5555555555555556,\"#d8576b\"],[0.6666666666666666,\"#ed7953\"],[0.7777777777777778,\"#fb9f3a\"],[0.8888888888888888,\"#fdca26\"],[1.0,\"#f0f921\"]],\"type\":\"contour\"}],\"contourcarpet\":[{\"colorbar\":{\"outlinewidth\":0,\"ticks\":\"\"},\"type\":\"contourcarpet\"}],\"heatmap\":[{\"colorbar\":{\"outlinewidth\":0,\"ticks\":\"\"},\"colorscale\":[[0.0,\"#0d0887\"],[0.1111111111111111,\"#46039f\"],[0.2222222222222222,\"#7201a8\"],[0.3333333333333333,\"#9c179e\"],[0.4444444444444444,\"#bd3786\"],[0.5555555555555556,\"#d8576b\"],[0.6666666666666666,\"#ed7953\"],[0.7777777777777778,\"#fb9f3a\"],[0.8888888888888888,\"#fdca26\"],[1.0,\"#f0f921\"]],\"type\":\"heatmap\"}],\"heatmapgl\":[{\"colorbar\":{\"outlinewidth\":0,\"ticks\":\"\"},\"colorscale\":[[0.0,\"#0d0887\"],[0.1111111111111111,\"#46039f\"],[0.2222222222222222,\"#7201a8\"],[0.3333333333333333,\"#9c179e\"],[0.4444444444444444,\"#bd3786\"],[0.5555555555555556,\"#d8576b\"],[0.6666666666666666,\"#ed7953\"],[0.7777777777777778,\"#fb9f3a\"],[0.8888888888888888,\"#fdca26\"],[1.0,\"#f0f921\"]],\"type\":\"heatmapgl\"}],\"histogram\":[{\"marker\":{\"pattern\":{\"fillmode\":\"overlay\",\"size\":10,\"solidity\":0.2}},\"type\":\"histogram\"}],\"histogram2d\":[{\"colorbar\":{\"outlinewidth\":0,\"ticks\":\"\"},\"colorscale\":[[0.0,\"#0d0887\"],[0.1111111111111111,\"#46039f\"],[0.2222222222222222,\"#7201a8\"],[0.3333333333333333,\"#9c179e\"],[0.4444444444444444,\"#bd3786\"],[0.5555555555555556,\"#d8576b\"],[0.6666666666666666,\"#ed7953\"],[0.7777777777777778,\"#fb9f3a\"],[0.8888888888888888,\"#fdca26\"],[1.0,\"#f0f921\"]],\"type\":\"histogram2d\"}],\"histogram2dcontour\":[{\"colorbar\":{\"outlinewidth\":0,\"ticks\":\"\"},\"colorscale\":[[0.0,\"#0d0887\"],[0.1111111111111111,\"#46039f\"],[0.2222222222222222,\"#7201a8\"],[0.3333333333333333,\"#9c179e\"],[0.4444444444444444,\"#bd3786\"],[0.5555555555555556,\"#d8576b\"],[0.6666666666666666,\"#ed7953\"],[0.7777777777777778,\"#fb9f3a\"],[0.8888888888888888,\"#fdca26\"],[1.0,\"#f0f921\"]],\"type\":\"histogram2dcontour\"}],\"mesh3d\":[{\"colorbar\":{\"outlinewidth\":0,\"ticks\":\"\"},\"type\":\"mesh3d\"}],\"parcoords\":[{\"line\":{\"colorbar\":{\"outlinewidth\":0,\"ticks\":\"\"}},\"type\":\"parcoords\"}],\"pie\":[{\"automargin\":true,\"type\":\"pie\"}],\"scatter\":[{\"marker\":{\"colorbar\":{\"outlinewidth\":0,\"ticks\":\"\"}},\"type\":\"scatter\"}],\"scatter3d\":[{\"line\":{\"colorbar\":{\"outlinewidth\":0,\"ticks\":\"\"}},\"marker\":{\"colorbar\":{\"outlinewidth\":0,\"ticks\":\"\"}},\"type\":\"scatter3d\"}],\"scattercarpet\":[{\"marker\":{\"colorbar\":{\"outlinewidth\":0,\"ticks\":\"\"}},\"type\":\"scattercarpet\"}],\"scattergeo\":[{\"marker\":{\"colorbar\":{\"outlinewidth\":0,\"ticks\":\"\"}},\"type\":\"scattergeo\"}],\"scattergl\":[{\"marker\":{\"colorbar\":{\"outlinewidth\":0,\"ticks\":\"\"}},\"type\":\"scattergl\"}],\"scattermapbox\":[{\"marker\":{\"colorbar\":{\"outlinewidth\":0,\"ticks\":\"\"}},\"type\":\"scattermapbox\"}],\"scatterpolar\":[{\"marker\":{\"colorbar\":{\"outlinewidth\":0,\"ticks\":\"\"}},\"type\":\"scatterpolar\"}],\"scatterpolargl\":[{\"marker\":{\"colorbar\":{\"outlinewidth\":0,\"ticks\":\"\"}},\"type\":\"scatterpolargl\"}],\"scatterternary\":[{\"marker\":{\"colorbar\":{\"outlinewidth\":0,\"ticks\":\"\"}},\"type\":\"scatterternary\"}],\"surface\":[{\"colorbar\":{\"outlinewidth\":0,\"ticks\":\"\"},\"colorscale\":[[0.0,\"#0d0887\"],[0.1111111111111111,\"#46039f\"],[0.2222222222222222,\"#7201a8\"],[0.3333333333333333,\"#9c179e\"],[0.4444444444444444,\"#bd3786\"],[0.5555555555555556,\"#d8576b\"],[0.6666666666666666,\"#ed7953\"],[0.7777777777777778,\"#fb9f3a\"],[0.8888888888888888,\"#fdca26\"],[1.0,\"#f0f921\"]],\"type\":\"surface\"}],\"table\":[{\"cells\":{\"fill\":{\"color\":\"#EBF0F8\"},\"line\":{\"color\":\"white\"}},\"header\":{\"fill\":{\"color\":\"#C8D4E3\"},\"line\":{\"color\":\"white\"}},\"type\":\"table\"}]},\"layout\":{\"annotationdefaults\":{\"arrowcolor\":\"#2a3f5f\",\"arrowhead\":0,\"arrowwidth\":1},\"autotypenumbers\":\"strict\",\"coloraxis\":{\"colorbar\":{\"outlinewidth\":0,\"ticks\":\"\"}},\"colorscale\":{\"diverging\":[[0,\"#8e0152\"],[0.1,\"#c51b7d\"],[0.2,\"#de77ae\"],[0.3,\"#f1b6da\"],[0.4,\"#fde0ef\"],[0.5,\"#f7f7f7\"],[0.6,\"#e6f5d0\"],[0.7,\"#b8e186\"],[0.8,\"#7fbc41\"],[0.9,\"#4d9221\"],[1,\"#276419\"]],\"sequential\":[[0.0,\"#0d0887\"],[0.1111111111111111,\"#46039f\"],[0.2222222222222222,\"#7201a8\"],[0.3333333333333333,\"#9c179e\"],[0.4444444444444444,\"#bd3786\"],[0.5555555555555556,\"#d8576b\"],[0.6666666666666666,\"#ed7953\"],[0.7777777777777778,\"#fb9f3a\"],[0.8888888888888888,\"#fdca26\"],[1.0,\"#f0f921\"]],\"sequentialminus\":[[0.0,\"#0d0887\"],[0.1111111111111111,\"#46039f\"],[0.2222222222222222,\"#7201a8\"],[0.3333333333333333,\"#9c179e\"],[0.4444444444444444,\"#bd3786\"],[0.5555555555555556,\"#d8576b\"],[0.6666666666666666,\"#ed7953\"],[0.7777777777777778,\"#fb9f3a\"],[0.8888888888888888,\"#fdca26\"],[1.0,\"#f0f921\"]]},\"colorway\":[\"#636efa\",\"#EF553B\",\"#00cc96\",\"#ab63fa\",\"#FFA15A\",\"#19d3f3\",\"#FF6692\",\"#B6E880\",\"#FF97FF\",\"#FECB52\"],\"font\":{\"color\":\"#2a3f5f\"},\"geo\":{\"bgcolor\":\"white\",\"lakecolor\":\"white\",\"landcolor\":\"#E5ECF6\",\"showlakes\":true,\"showland\":true,\"subunitcolor\":\"white\"},\"hoverlabel\":{\"align\":\"left\"},\"hovermode\":\"closest\",\"mapbox\":{\"style\":\"light\"},\"paper_bgcolor\":\"white\",\"plot_bgcolor\":\"#E5ECF6\",\"polar\":{\"angularaxis\":{\"gridcolor\":\"white\",\"linecolor\":\"white\",\"ticks\":\"\"},\"bgcolor\":\"#E5ECF6\",\"radialaxis\":{\"gridcolor\":\"white\",\"linecolor\":\"white\",\"ticks\":\"\"}},\"scene\":{\"xaxis\":{\"backgroundcolor\":\"#E5ECF6\",\"gridcolor\":\"white\",\"gridwidth\":2,\"linecolor\":\"white\",\"showbackground\":true,\"ticks\":\"\",\"zerolinecolor\":\"white\"},\"yaxis\":{\"backgroundcolor\":\"#E5ECF6\",\"gridcolor\":\"white\",\"gridwidth\":2,\"linecolor\":\"white\",\"showbackground\":true,\"ticks\":\"\",\"zerolinecolor\":\"white\"},\"zaxis\":{\"backgroundcolor\":\"#E5ECF6\",\"gridcolor\":\"white\",\"gridwidth\":2,\"linecolor\":\"white\",\"showbackground\":true,\"ticks\":\"\",\"zerolinecolor\":\"white\"}},\"shapedefaults\":{\"line\":{\"color\":\"#2a3f5f\"}},\"ternary\":{\"aaxis\":{\"gridcolor\":\"white\",\"linecolor\":\"white\",\"ticks\":\"\"},\"baxis\":{\"gridcolor\":\"white\",\"linecolor\":\"white\",\"ticks\":\"\"},\"bgcolor\":\"#E5ECF6\",\"caxis\":{\"gridcolor\":\"white\",\"linecolor\":\"white\",\"ticks\":\"\"}},\"title\":{\"x\":0.05},\"xaxis\":{\"automargin\":true,\"gridcolor\":\"white\",\"linecolor\":\"white\",\"ticks\":\"\",\"title\":{\"standoff\":15},\"zerolinecolor\":\"white\",\"zerolinewidth\":2},\"yaxis\":{\"automargin\":true,\"gridcolor\":\"white\",\"linecolor\":\"white\",\"ticks\":\"\",\"title\":{\"standoff\":15},\"zerolinecolor\":\"white\",\"zerolinewidth\":2}}}},                        {\"responsive\": true}                    ).then(function(){\n",
              "                            \n",
              "var gd = document.getElementById('76b40152-3e27-41d9-9d37-1448be444004');\n",
              "var x = new MutationObserver(function (mutations, observer) {{\n",
              "        var display = window.getComputedStyle(gd).display;\n",
              "        if (!display || display === 'none') {{\n",
              "            console.log([gd, 'removed!']);\n",
              "            Plotly.purge(gd);\n",
              "            observer.disconnect();\n",
              "        }}\n",
              "}});\n",
              "\n",
              "// Listen for the removal of the full notebook cells\n",
              "var notebookContainer = gd.closest('#notebook-container');\n",
              "if (notebookContainer) {{\n",
              "    x.observe(notebookContainer, {childList: true});\n",
              "}}\n",
              "\n",
              "// Listen for the clearing of the current output cell\n",
              "var outputEl = gd.closest('.output');\n",
              "if (outputEl) {{\n",
              "    x.observe(outputEl, {childList: true});\n",
              "}}\n",
              "\n",
              "                        })                };                            </script>        </div>\n",
              "</body>\n",
              "</html>"
            ]
          },
          "metadata": {}
        }
      ]
    },
    {
      "cell_type": "code",
      "source": [
        "# size of each cluster\n",
        "\n",
        "df[\"cluster\"].value_counts()"
      ],
      "metadata": {
        "colab": {
          "base_uri": "https://localhost:8080/"
        },
        "id": "hcEKFNmutd1s",
        "outputId": "d1490d2b-2960-4cfc-e079-a27086151be8"
      },
      "execution_count": null,
      "outputs": [
        {
          "output_type": "execute_result",
          "data": {
            "text/plain": [
              "3    100\n",
              "0     80\n",
              "2     56\n",
              "4     37\n",
              "1     26\n",
              "Name: cluster, dtype: int64"
            ]
          },
          "metadata": {},
          "execution_count": 52
        }
      ]
    },
    {
      "cell_type": "code",
      "source": [
        "# numerical data exploration\n",
        "g = sns.PairGrid(df[[\"age\", \"serum_sodium\", \"platelets\", \"cluster\"]], hue = \"cluster\", palette = 'Spectral')\n",
        "g.map_diag(sns.histplot)\n",
        "g.map_offdiag(sns.scatterplot)\n",
        "g.add_legend()"
      ],
      "metadata": {
        "colab": {
          "base_uri": "https://localhost:8080/",
          "height": 564
        },
        "id": "0M_JxHP4ttho",
        "outputId": "fc68c452-9e7f-4c29-fdb5-2c493b29d11c"
      },
      "execution_count": null,
      "outputs": [
        {
          "output_type": "execute_result",
          "data": {
            "text/plain": [
              "<seaborn.axisgrid.PairGrid at 0x7fd5ae1658d0>"
            ]
          },
          "metadata": {},
          "execution_count": 53
        },
        {
          "output_type": "display_data",
          "data": {
            "text/plain": [
              "<Figure size 582.375x540 with 12 Axes>"
            ],
            "image/png": "[encoded data removed]"
          },
          "metadata": {
            "needs_background": "light"
          }
        }
      ]
    },
    {
      "cell_type": "code",
      "source": [
        "ax = sns.countplot(data = df, x=\"smoking\", hue = \"cluster\", palette = 'Spectral' )"
      ],
      "metadata": {
        "colab": {
          "base_uri": "https://localhost:8080/",
          "height": 279
        },
        "id": "D_PqBNLZuFPN",
        "outputId": "34760234-4d0f-48c6-920e-66dbde9d9d87"
      },
      "execution_count": null,
      "outputs": [
        {
          "output_type": "display_data",
          "data": {
            "text/plain": [
              "<Figure size 432x288 with 1 Axes>"
            ],
            "image/png": "[encoded data removed]"
          },
          "metadata": {
            "needs_background": "light"
          }
        }
      ]
    },
    {
      "cell_type": "code",
      "source": [
        "ax = sns.countplot(data = df, x=\"gender\", hue = \"cluster\", palette = 'Spectral' )"
      ],
      "metadata": {
        "colab": {
          "base_uri": "https://localhost:8080/",
          "height": 279
        },
        "id": "zWmPNCTFuJFB",
        "outputId": "35656bbb-f32d-4194-9eb5-00b0d9297026"
      },
      "execution_count": null,
      "outputs": [
        {
          "output_type": "display_data",
          "data": {
            "text/plain": [
              "<Figure size 432x288 with 1 Axes>"
            ],
            "image/png": "[encoded data removed]"
          },
          "metadata": {
            "needs_background": "light"
          }
        }
      ]
    },
    {
      "cell_type": "markdown",
      "source": [
        "**Cluster Statistics**"
      ],
      "metadata": {
        "id": "qfw2mt84zVyp"
      }
    },
    {
      "cell_type": "code",
      "source": [
        "df[df[\"cluster\"] == 2].describe()"
      ],
      "metadata": {
        "colab": {
          "base_uri": "https://localhost:8080/",
          "height": 300
        },
        "id": "eGhPJ6xauj-B",
        "outputId": "68fd7413-2715-474c-b2bd-f76bbe350e48"
      },
      "execution_count": null,
      "outputs": [
        {
          "output_type": "execute_result",
          "data": {
            "text/plain": [
              "             age     gender  serum_sodium      platelets    smoking  cluster\n",
              "count  56.000000  56.000000     56.000000      56.000000  56.000000     56.0\n",
              "mean   65.535714   0.428571    141.553571  246056.680179   0.214286      2.0\n",
              "std     7.198394   0.499350      2.522046   68026.269486   0.414039      0.0\n",
              "min    53.000000   0.000000    137.000000   25100.000000   0.000000      2.0\n",
              "25%    60.000000   0.000000    140.000000  200750.000000   0.000000      2.0\n",
              "50%    65.000000   0.000000    141.000000  250500.000000   0.000000      2.0\n",
              "75%    70.000000   1.000000    144.000000  294250.000000   0.000000      2.0\n",
              "max    90.000000   1.000000    148.000000  390000.000000   1.000000      2.0"
            ],
            "text/html": [
              "\n",
              "  <div id=\"df-8ae89942-99c1-4c09-b673-219d6a40d12e\">\n",
              "    <div class=\"colab-df-container\">\n",
              "      <div>\n",
              "<style scoped>\n",
              "    .dataframe tbody tr th:only-of-type {\n",
              "        vertical-align: middle;\n",
              "    }\n",
              "\n",
              "    .dataframe tbody tr th {\n",
              "        vertical-align: top;\n",
              "    }\n",
              "\n",
              "    .dataframe thead th {\n",
              "        text-align: right;\n",
              "    }\n",
              "</style>\n",
              "<table border=\"1\" class=\"dataframe\">\n",
              "  <thead>\n",
              "    <tr style=\"text-align: right;\">\n",
              "      <th></th>\n",
              "      <th>age</th>\n",
              "      <th>gender</th>\n",
              "      <th>serum_sodium</th>\n",
              "      <th>platelets</th>\n",
              "      <th>smoking</th>\n",
              "      <th>cluster</th>\n",
              "    </tr>\n",
              "  </thead>\n",
              "  <tbody>\n",
              "    <tr>\n",
              "      <th>count</th>\n",
              "      <td>56.000000</td>\n",
              "      <td>56.000000</td>\n",
              "      <td>56.000000</td>\n",
              "      <td>56.000000</td>\n",
              "      <td>56.000000</td>\n",
              "      <td>56.0</td>\n",
              "    </tr>\n",
              "    <tr>\n",
              "      <th>mean</th>\n",
              "      <td>65.535714</td>\n",
              "      <td>0.428571</td>\n",
              "      <td>141.553571</td>\n",
              "      <td>246056.680179</td>\n",
              "      <td>0.214286</td>\n",
              "      <td>2.0</td>\n",
              "    </tr>\n",
              "    <tr>\n",
              "      <th>std</th>\n",
              "      <td>7.198394</td>\n",
              "      <td>0.499350</td>\n",
              "      <td>2.522046</td>\n",
              "      <td>68026.269486</td>\n",
              "      <td>0.414039</td>\n",
              "      <td>0.0</td>\n",
              "    </tr>\n",
              "    <tr>\n",
              "      <th>min</th>\n",
              "      <td>53.000000</td>\n",
              "      <td>0.000000</td>\n",
              "      <td>137.000000</td>\n",
              "      <td>25100.000000</td>\n",
              "      <td>0.000000</td>\n",
              "      <td>2.0</td>\n",
              "    </tr>\n",
              "    <tr>\n",
              "      <th>25%</th>\n",
              "      <td>60.000000</td>\n",
              "      <td>0.000000</td>\n",
              "      <td>140.000000</td>\n",
              "      <td>200750.000000</td>\n",
              "      <td>0.000000</td>\n",
              "      <td>2.0</td>\n",
              "    </tr>\n",
              "    <tr>\n",
              "      <th>50%</th>\n",
              "      <td>65.000000</td>\n",
              "      <td>0.000000</td>\n",
              "      <td>141.000000</td>\n",
              "      <td>250500.000000</td>\n",
              "      <td>0.000000</td>\n",
              "      <td>2.0</td>\n",
              "    </tr>\n",
              "    <tr>\n",
              "      <th>75%</th>\n",
              "      <td>70.000000</td>\n",
              "      <td>1.000000</td>\n",
              "      <td>144.000000</td>\n",
              "      <td>294250.000000</td>\n",
              "      <td>0.000000</td>\n",
              "      <td>2.0</td>\n",
              "    </tr>\n",
              "    <tr>\n",
              "      <th>max</th>\n",
              "      <td>90.000000</td>\n",
              "      <td>1.000000</td>\n",
              "      <td>148.000000</td>\n",
              "      <td>390000.000000</td>\n",
              "      <td>1.000000</td>\n",
              "      <td>2.0</td>\n",
              "    </tr>\n",
              "  </tbody>\n",
              "</table>\n",
              "</div>\n",
              "      <button class=\"colab-df-convert\" onclick=\"convertToInteractive('df-8ae89942-99c1-4c09-b673-219d6a40d12e')\"\n",
              "              title=\"Convert this dataframe to an interactive table.\"\n",
              "              style=\"display:none;\">\n",
              "        \n",
              "  <svg xmlns=\"http://www.w3.org/2000/svg\" height=\"24px\"viewBox=\"0 0 24 24\"\n",
              "       width=\"24px\">\n",
              "    <path d=\"M0 0h24v24H0V0z\" fill=\"none\"/>\n",
              "    <path d=\"M18.56 5.44l.94 2.06.94-2.06 2.06-.94-2.06-.94-.94-2.06-.94 2.06-2.06.94zm-11 1L8.5 8.5l.94-2.06 2.06-.94-2.06-.94L8.5 2.5l-.94 2.06-2.06.94zm10 10l.94 2.06.94-2.06 2.06-.94-2.06-.94-.94-2.06-.94 2.06-2.06.94z\"/><path d=\"M17.41 7.96l-1.37-1.37c-.4-.4-.92-.59-1.43-.59-.52 0-1.04.2-1.43.59L10.3 9.45l-7.72 7.72c-.78.78-.78 2.05 0 2.83L4 21.41c.39.39.9.59 1.41.59.51 0 1.02-.2 1.41-.59l7.78-7.78 2.81-2.81c.8-.78.8-2.07 0-2.86zM5.41 20L4 18.59l7.72-7.72 1.47 1.35L5.41 20z\"/>\n",
              "  </svg>\n",
              "      </button>\n",
              "      \n",
              "  <style>\n",
              "    .colab-df-container {\n",
              "      display:flex;\n",
              "      flex-wrap:wrap;\n",
              "      gap: 12px;\n",
              "    }\n",
              "\n",
              "    .colab-df-convert {\n",
              "      background-color: #E8F0FE;\n",
              "      border: none;\n",
              "      border-radius: 50%;\n",
              "      cursor: pointer;\n",
              "      display: none;\n",
              "      fill: #1967D2;\n",
              "      height: 32px;\n",
              "      padding: 0 0 0 0;\n",
              "      width: 32px;\n",
              "    }\n",
              "\n",
              "    .colab-df-convert:hover {\n",
              "      background-color: #E2EBFA;\n",
              "      box-shadow: 0px 1px 2px rgba(60, 64, 67, 0.3), 0px 1px 3px 1px rgba(60, 64, 67, 0.15);\n",
              "      fill: #174EA6;\n",
              "    }\n",
              "\n",
              "    [theme=dark] .colab-df-convert {\n",
              "      background-color: #3B4455;\n",
              "      fill: #D2E3FC;\n",
              "    }\n",
              "\n",
              "    [theme=dark] .colab-df-convert:hover {\n",
              "      background-color: #434B5C;\n",
              "      box-shadow: 0px 1px 3px 1px rgba(0, 0, 0, 0.15);\n",
              "      filter: drop-shadow(0px 1px 2px rgba(0, 0, 0, 0.3));\n",
              "      fill: #FFFFFF;\n",
              "    }\n",
              "  </style>\n",
              "\n",
              "      <script>\n",
              "        const buttonEl =\n",
              "          document.querySelector('#df-8ae89942-99c1-4c09-b673-219d6a40d12e button.colab-df-convert');\n",
              "        buttonEl.style.display =\n",
              "          google.colab.kernel.accessAllowed ? 'block' : 'none';\n",
              "\n",
              "        async function convertToInteractive(key) {\n",
              "          const element = document.querySelector('#df-8ae89942-99c1-4c09-b673-219d6a40d12e');\n",
              "          const dataTable =\n",
              "            await google.colab.kernel.invokeFunction('convertToInteractive',\n",
              "                                                     [key], {});\n",
              "          if (!dataTable) return;\n",
              "\n",
              "          const docLinkHtml = 'Like what you see? Visit the ' +\n",
              "            '<a target=\"_blank\" href=https://colab.research.google.com/notebooks/data_table.ipynb>data table notebook</a>'\n",
              "            + ' to learn more about interactive tables.';\n",
              "          element.innerHTML = '';\n",
              "          dataTable['output_type'] = 'display_data';\n",
              "          await google.colab.output.renderOutput(dataTable, element);\n",
              "          const docLink = document.createElement('div');\n",
              "          docLink.innerHTML = docLinkHtml;\n",
              "          element.appendChild(docLink);\n",
              "        }\n",
              "      </script>\n",
              "    </div>\n",
              "  </div>\n",
              "  "
            ]
          },
          "metadata": {},
          "execution_count": 56
        }
      ]
    }
  ]
}